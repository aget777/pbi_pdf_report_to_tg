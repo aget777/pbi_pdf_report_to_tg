{
 "cells": [
  {
   "cell_type": "code",
   "execution_count": 1,
   "id": "a31d3e11-f749-435b-890d-4ef330ea1776",
   "metadata": {},
   "outputs": [],
   "source": [
    "import pandas as pd\n",
    "import os\n",
    "\n",
    "from time import sleep\n",
    "import numpy as np\n",
    "from datetime import date\n",
    "from datetime import datetime\n",
    "\n",
    "\n",
    "import config\n",
    "from parse_email_data import get_file_from_email"
   ]
  },
  {
   "cell_type": "code",
   "execution_count": null,
   "id": "6dd8386c-6223-4f0e-a4a9-eb6df07f80a0",
   "metadata": {},
   "outputs": [],
   "source": [
    "# Включаем отображение всех колонок\n",
    "pd.set_option('display.max_columns', None)\n",
    "# Задаем ширину столбцов по контенту\n",
    "pd.set_option('display.max_colwidth', None)\n",
    "pd.set_option('display.max_rows', None)"
   ]
  },
  {
   "cell_type": "code",
   "execution_count": null,
   "id": "e9f1696b-b129-4686-b8bf-f77ebe98a875",
   "metadata": {},
   "outputs": [],
   "source": []
  },
  {
   "cell_type": "code",
   "execution_count": 9,
   "id": "3e31046a-8367-4bb8-9529-925477a5166c",
   "metadata": {},
   "outputs": [],
   "source": [
    "\"\"\"\n",
    "Функция для удаления файлов из временных папок\n",
    "\"\"\"\n",
    "def clear_tmp_folder(files_folder=config.email_file_path):\n",
    "    # здесь запускаем логику удаления CSV файлов\n",
    "    if 'files' in files_folder:\n",
    "        if os.listdir(files_folder):\n",
    "            # достаем каждый отдельный файл\n",
    "            for file_name in os.listdir(files_folder):\n",
    "                os.remove(os.path.join(files_folder, file_name))"
   ]
  },
  {
   "cell_type": "code",
   "execution_count": 11,
   "id": "b2843b29-1979-4e1e-9031-3acfec39e787",
   "metadata": {},
   "outputs": [
    {
     "name": "stdout",
     "output_type": "stream",
     "text": [
      "Отчет не найден: test_pdf\n",
      "--- нашли письмо от:  Олег Викторович <9240177@gmail.com>\n",
      "---- нашли вложение Kalinigrad_PDF_report_2025_06_23.pdf\n",
      "-- удаляем письмо\n",
      "Отчет не найден: Kalinigrad_PDF_report_2\n"
     ]
    }
   ],
   "source": [
    "def get_powerbi_pdf_reports():\n",
    "    clear_tmp_folder()\n",
    "    for bot, reports_list in config.tg_bot_reports_dict.items():\n",
    "        for keyword in reports_list:\n",
    "            try:\n",
    "                get_file_from_email(keyword)\n",
    "            except:\n",
    "                print(f'Отчет не найден: {keyword}')"
   ]
  },
  {
   "cell_type": "code",
   "execution_count": null,
   "id": "f90e38b4-7340-4bc8-af52-2f43e20112d4",
   "metadata": {},
   "outputs": [],
   "source": []
  },
  {
   "cell_type": "code",
   "execution_count": null,
   "id": "7b21deba-5c65-40e3-88de-77580dd238d5",
   "metadata": {},
   "outputs": [],
   "source": []
  },
  {
   "cell_type": "code",
   "execution_count": null,
   "id": "0d0e13cf-fa57-461f-9db9-9a5afdc08a72",
   "metadata": {},
   "outputs": [],
   "source": []
  },
  {
   "cell_type": "code",
   "execution_count": null,
   "id": "740e6b5a-1852-4e05-91a3-023c223a89f6",
   "metadata": {},
   "outputs": [],
   "source": []
  },
  {
   "cell_type": "code",
   "execution_count": null,
   "id": "c4042898-99bf-469a-a3a8-502afea4df95",
   "metadata": {},
   "outputs": [],
   "source": []
  },
  {
   "cell_type": "code",
   "execution_count": null,
   "id": "3ce31d95-3abf-42af-b462-781d7fd88a12",
   "metadata": {},
   "outputs": [],
   "source": []
  },
  {
   "cell_type": "code",
   "execution_count": null,
   "id": "f6361bf3-434b-49d1-bd36-0adeb19c50cf",
   "metadata": {},
   "outputs": [],
   "source": []
  },
  {
   "cell_type": "code",
   "execution_count": null,
   "id": "356876d8-9477-489b-933c-99ee296c1d88",
   "metadata": {},
   "outputs": [],
   "source": []
  },
  {
   "cell_type": "code",
   "execution_count": null,
   "id": "d20699f9-d383-4c47-97ca-4ff06f787ac8",
   "metadata": {},
   "outputs": [],
   "source": []
  },
  {
   "cell_type": "code",
   "execution_count": null,
   "id": "19f2d88b-3f60-4613-a1b9-2353f6ad6bab",
   "metadata": {},
   "outputs": [],
   "source": []
  },
  {
   "cell_type": "code",
   "execution_count": 10,
   "id": "e5ce3dc9-89b3-4963-8810-2d49cd6c3cd8",
   "metadata": {},
   "outputs": [],
   "source": []
  },
  {
   "cell_type": "code",
   "execution_count": null,
   "id": "ff532a28-15e7-48ef-ab30-90b5d13290b2",
   "metadata": {},
   "outputs": [],
   "source": []
  },
  {
   "cell_type": "code",
   "execution_count": null,
   "id": "aed7d6c5-9e80-47ad-8818-538537a26a5a",
   "metadata": {},
   "outputs": [],
   "source": []
  },
  {
   "cell_type": "code",
   "execution_count": null,
   "id": "78adebfb-de28-4683-9c4e-67d2db698d04",
   "metadata": {},
   "outputs": [],
   "source": []
  },
  {
   "cell_type": "code",
   "execution_count": null,
   "id": "5a906b5f-952e-446b-a680-2a7d8809130e",
   "metadata": {},
   "outputs": [],
   "source": []
  },
  {
   "cell_type": "code",
   "execution_count": null,
   "id": "1d846cd3-5d6e-4d12-b625-8386e25372a1",
   "metadata": {},
   "outputs": [],
   "source": []
  },
  {
   "cell_type": "code",
   "execution_count": null,
   "id": "6af9f6c6-15b6-43df-ab43-a1dd53a68bbd",
   "metadata": {},
   "outputs": [],
   "source": []
  },
  {
   "cell_type": "code",
   "execution_count": null,
   "id": "c1bee136-87ee-47f6-813f-fcf8d7f8d0a7",
   "metadata": {},
   "outputs": [],
   "source": []
  },
  {
   "cell_type": "code",
   "execution_count": null,
   "id": "a0f16bea-afcf-481f-86bd-cffc47b6cccf",
   "metadata": {},
   "outputs": [],
   "source": []
  },
  {
   "cell_type": "code",
   "execution_count": null,
   "id": "e2d0cfc8-ad46-47f7-992d-5a609cba4c98",
   "metadata": {},
   "outputs": [],
   "source": []
  }
 ],
 "metadata": {
  "kernelspec": {
   "display_name": "Python 3 (ipykernel)",
   "language": "python",
   "name": "python3"
  },
  "language_info": {
   "codemirror_mode": {
    "name": "ipython",
    "version": 3
   },
   "file_extension": ".py",
   "mimetype": "text/x-python",
   "name": "python",
   "nbconvert_exporter": "python",
   "pygments_lexer": "ipython3",
   "version": "3.11.7"
  }
 },
 "nbformat": 4,
 "nbformat_minor": 5
}
