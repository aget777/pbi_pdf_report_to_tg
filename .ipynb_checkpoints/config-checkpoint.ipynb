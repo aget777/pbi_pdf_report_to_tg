{
 "cells": [
  {
   "cell_type": "code",
   "execution_count": 1,
   "id": "fdc8e8b4-f23f-406a-b12e-6a39c53e30c0",
   "metadata": {},
   "outputs": [],
   "source": [
    "import os\n",
    "from datetime import datetime\n",
    "# Почта, которую используем imap.mail.ru / imap.yandex.ru\n",
    "imap_server = 'mail.sales-helper.ru'\n",
    "\n",
    "\n",
    "# список ключевых слов для проверки письма на почте\n",
    "keywords_list = ['June 10, 2025 21:00']\n",
    "\n",
    "# # здесь файл только для загрузки в БД, потом удаляется\n",
    "email_file_path = r'C:\\Users\\o.bogomolov\\Desktop\\Jupyter_notebook\\44_reg_ru_mail\\tmp_files'\n",
    "\n",
    "# # здесь храним все загруженные файлы\n",
    "# files_storage = r'C:\\Users\\o.bogomolov\\Desktop\\Jupyter_notebook\\38_x5_report_parser\\storage'\n",
    "\n",
    "cred_path = r'C:\\Users\\o.bogomolov\\Desktop\\Jupyter_notebook\\44_reg_ru_mail\\cred'\n",
    "\n"
   ]
  },
  {
   "cell_type": "code",
   "execution_count": 8,
   "id": "ab045570-fe53-4e9c-b72f-db34215559e0",
   "metadata": {},
   "outputs": [
    {
     "data": {
      "text/plain": [
       "'2025_02_27'"
      ]
     },
     "execution_count": 8,
     "metadata": {},
     "output_type": "execute_result"
    }
   ],
   "source": []
  },
  {
   "cell_type": "code",
   "execution_count": null,
   "id": "16a2c0fb-2164-4527-b92e-a699ba3567ea",
   "metadata": {},
   "outputs": [],
   "source": [
    "# создаем функцию, чтобы забрать данные для подключения из текстового файла\n",
    "def get_cred_dict(file_path, file_name):\n",
    "    dict = {}\n",
    "    creds = open(os.path.join(file_path, file_name), encoding='utf-8').read()\n",
    "    for text in creds.split('\\n'):\n",
    "        content = text.split(': ')\n",
    "        dict[content[0]] = content[1]\n",
    "\n",
    "    return dict"
   ]
  },
  {
   "cell_type": "code",
   "execution_count": 68,
   "id": "0a6fd179-357a-4d03-a6fa-b61ae9ca0b43",
   "metadata": {},
   "outputs": [],
   "source": [
    "mail_file = 'mail_creds.txt'\n",
    "mail_dict = get_cred_dict(cred_path, mail_file)\n",
    "\n",
    "mail_pass = mail_dict['mail_pass']\n",
    "username = mail_dict['username']\n"
   ]
  }
 ],
 "metadata": {
  "kernelspec": {
   "display_name": "Python 3 (ipykernel)",
   "language": "python",
   "name": "python3"
  },
  "language_info": {
   "codemirror_mode": {
    "name": "ipython",
    "version": 3
   },
   "file_extension": ".py",
   "mimetype": "text/x-python",
   "name": "python",
   "nbconvert_exporter": "python",
   "pygments_lexer": "ipython3",
   "version": "3.11.7"
  }
 },
 "nbformat": 4,
 "nbformat_minor": 5
}
